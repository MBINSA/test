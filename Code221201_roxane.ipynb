{
 "cells": [
  {
   "cell_type": "markdown",
   "id": "0d410e39-e0d4-4430-ba0f-fc8c59d620d0",
   "metadata": {},
   "source": [
    "# Code Python - Electre Tri "
   ]
  },
  {
   "cell_type": "markdown",
   "id": "c038ddb9",
   "metadata": {},
   "source": [
    "## Introduction to the project\n",
    "\n",
    "The aim of the project is to answer the 3F company's request : find the better solution to energitically renovate 3 of their buildings. \n",
    "Since \n",
    "\n",
    "*Faire une introduction du projet*\n"
   ]
  },
  {
   "cell_type": "markdown",
   "id": "5dff321c",
   "metadata": {},
   "source": [
    "+ enlever la classe write csv\n",
    "+ enlever \"import xlrd\" / ajouter \"import pandas as pd\" \n",
    "+ récupérer directement les csv files avec panda\n",
    "+ Roxane Roxane roxane \n"
   ]
  },
  {
   "cell_type": "code",
   "execution_count": 1,
   "id": "cfcdcf4b",
   "metadata": {},
   "outputs": [
    {
     "name": "stdout",
     "output_type": "stream",
     "text": [
      "   Criteres     S1.1     S1.2     S1.3    S1.4     S2.1     S2.2     S2.3  \\\n",
      "0      g1.1        0  1008654  1260874  905165  1239757  2468887  1636981   \n",
      "1      g1.2  1757134   551661   711361  551661   551661   625566   785266   \n",
      "2      g1.3        0   952088   991697  917604   955885   996168  1035489   \n",
      "3      g1.4    82701    41346    36119   42268    40971    28230    23290   \n",
      "4      g1.5        0     5933     6591    5457     6771     6736     7185   \n",
      "5      g2.1     5.00     3.33     3.00    3.67     2.33     1.67     1.33   \n",
      "6      g2.2      OUI      OUI      OUI     OUI      OUI      OUI      OUI   \n",
      "7      g2.3     4.38     0.00     5.00    5.00     4.38     3.75     3.75   \n",
      "8      g2.4     3.57     3.57     3.57    3.57     4.29     3.57     3.57   \n",
      "9      g3.1      368      182      159     186      168      141      118   \n",
      "10     g3.2     0.00     2.78     3.33    2.22     4.44     4.44     5.00   \n",
      "11     g3.3     5.00     5.00     5.00    5.00     4.00     4.00     4.00   \n",
      "12     g3.4     4.00     4.00     4.00    4.00     4.00     4.00     4.00   \n",
      "13     g4.1        0      170      191     166      183      207      228   \n",
      "14     g4.2        0       65       74      64       71       80       88   \n",
      "15     g4.3        0      418      690     418     2368     2448     2720   \n",
      "\n",
      "       S2.4     S3.1  ...  VAR         b0          b1          b2          b3  \\\n",
      "0   1282394  1344232  ...  0.1 -3798369.0 -1667495.00 -1528955.00 -1418833.00   \n",
      "1    390966   610011  ...  0.1 -3514268.0  -928689.00  -837382.00  -680856.00   \n",
      "2    995521   957187  ...  0.1        0.0   963728.00  1031134.00  1071156.00   \n",
      "3     28762    41692  ...  0.1  -165402.0   -38545.00   -28729.00   -24522.00   \n",
      "4      6255     7140  ...  0.1   -15052.0    -6853.00    -6717.00    -6376.00   \n",
      "5      2.00     2.00  ...  0.1        0.0        0.71        1.20        1.54   \n",
      "6       OUI      OUI  ...  0.1        0.0        0.00        0.00        1.00   \n",
      "7      3.75     4.38  ...  0.1        0.0        1.93        2.60        3.26   \n",
      "8      3.57     5.00  ...  0.1        0.0        1.98        2.35        3.30   \n",
      "9       144      162  ...  0.1     -736.0     -160.00     -137.00     -115.00   \n",
      "10     3.89     2.22  ...  0.1        0.0        1.78        2.23        3.74   \n",
      "11     4.00     3.00  ...  0.1        0.0        1.00        2.10        3.36   \n",
      "12     4.00     2.00  ...  0.1        0.0        0.59        1.87        3.14   \n",
      "13      205      188  ...  0.1        0.0      194.00      223.00      234.00   \n",
      "14       79       73  ...  0.1        0.0       60.00       74.00       82.00   \n",
      "15     2448     2368  ...  0.1    -5940.0    -2737.00    -2657.00    -2496.00   \n",
      "\n",
      "            b4         b5         q          p          v  \n",
      "0  -1330025.00        0.0  70942.00  212825.00  468215.00  \n",
      "1   -602593.00        0.0  39260.00  117781.00  259118.00  \n",
      "2   1111178.00  2408875.0  50819.00  152458.00  335408.00  \n",
      "3    -18913.00        0.0   1436.00    4309.00    9480.00  \n",
      "4     -5491.00        0.0    309.00     926.00    2037.00  \n",
      "5         2.09       10.0      0.08       0.23       0.51  \n",
      "6         1.00        1.0      0.00       1.00       2.20  \n",
      "7         4.00       10.0      0.15       0.45       0.98  \n",
      "8         4.28       10.0      0.15       0.45       0.99  \n",
      "9       -99.00        0.0      7.00      21.00      45.00  \n",
      "10        4.19       10.0      0.14       0.43       0.94  \n",
      "11        4.08       10.0      0.15       0.45       0.99  \n",
      "12        4.41       10.0      0.14       0.41       0.90  \n",
      "13      257.00      612.0     11.00      33.00      74.00  \n",
      "14       90.00      212.0      4.00      11.00      24.00  \n",
      "15    -2376.00        0.0    113.00     338.00     744.00  \n",
      "\n",
      "[16 rows x 40 columns]\n"
     ]
    }
   ],
   "source": [
    "import csv\n",
    "import pandas as pd\n",
    "\n",
    "d = pd.read_csv('Input_data.csv')\n",
    "print(d)"
   ]
  },
  {
   "cell_type": "code",
   "execution_count": null,
   "id": "90344737",
   "metadata": {},
   "outputs": [],
   "source": [
    "#--------------------ELECTRE-TRI-B----------------------------#\n",
    "\n",
    "\n",
    "from numpy import random, vstack, empty\n",
    "import math\n",
    "import csv\n",
    "\n",
    "\n",
    "def input_data(name_W, name_MY, name_D, name_BP, name_T, variance):\n",
    "    \"\"\"\n",
    "    Generates the different input data in the correct format from .csv files.\n",
    "\n",
    "    :param name_W: Name of the .csv file which must contain on the first line the name of the criteria and on the\n",
    "        second line the weightings.\n",
    "    :param name_MY: Name of the .csv file which must contain on the first line the names of the possibles actions and\n",
    "        on the following lines the performance of each action against each criterion.\n",
    "    :param name_D: Name of the .csv file which must contain on the first line the names of the boundaries actions and\n",
    "        on the following lines, the distributionper criteria\n",
    "    :param name_T: Name of the .csv file which must contain on the first line the names of the thresholds and on the\n",
    "        following lines, for each criterion, the values of the indifference threshold, preference threshold and veto\n",
    "        threshold.\n",
    "    :param variance: Variance defined in the main\n",
    "\n",
    "    :return C: List containing the names of the criteria as strings.\n",
    "    :return W: Dictionary containing the weightings of each criterion.\n",
    "    :return A: List containing the names of the actions as strings.\n",
    "    :return AP: Actions performances dictionary.\n",
    "    :return B: List containing the names of the boundary reference actions as strings.\n",
    "    :return BP: Boundary reference actions performances dictionary.\n",
    "    :return T: Dictionary of thresholds.\n",
    "    \"\"\"\n",
    "    C = []\n",
    "    W = {}\n",
    "    A = []\n",
    "    MY = {}\n",
    "    B = []\n",
    "    BP = {}\n",
    "    T = {}\n",
    "    D = {}\n",
    "\n",
    "    with open(name_W, 'r', newline='') as W_csv:\n",
    "        reader = csv.reader(W_csv, delimiter=',')\n",
    "        line_count = 0\n",
    "        for row in reader:\n",
    "            if line_count == 0:\n",
    "                [C.append(item) for item in row]\n",
    "            else:\n",
    "                for j in range(len(row)):\n",
    "                    W[C[j]] = float(row[j])\n",
    "            line_count += 1\n",
    "\n",
    "    with open(name_MY, 'r', newline='') as MY_csv:\n",
    "        reader = csv.reader(MY_csv, delimiter=',')\n",
    "        line_count = 0\n",
    "        Cri = []\n",
    "        for row in reader:\n",
    "            if line_count == 0:\n",
    "                [A.append(item) for item in row]\n",
    "            if line_count == 1:\n",
    "                [Cri.append(item) for item in row]\n",
    "            else:\n",
    "                perf_A = {}\n",
    "                for j in range(len(Cri)):\n",
    "                    perf_A[Cri[j]] = row[j]\n",
    "                    MY[A[line_count - 2]] = perf_A\n",
    "            line_count += 1\n",
    "\n",
    "    with open(name_D, 'r', newline='') as D_csv:\n",
    "        reader = csv.reader(D_csv, delimiter=',')\n",
    "        line_count = 0\n",
    "        Cri = []\n",
    "        for row in reader:\n",
    "            if line_count == 0:\n",
    "                [Cri.append(item) for item in row]\n",
    "            else:\n",
    "                for j in range(len(row)):\n",
    "                    perf_D = row[j]\n",
    "                    D[Cri[j]] = perf_D\n",
    "            line_count += 1\n",
    "\n",
    "    with open(name_BP, 'r', newline='') as BP_csv:\n",
    "        reader = csv.reader(BP_csv, delimiter=',')\n",
    "        line_count = 0\n",
    "        for row in reader:\n",
    "            if line_count == 0:\n",
    "                [B.append(item) for item in row]\n",
    "            else:\n",
    "                perf_B = {}\n",
    "                for j in range(len(row)):\n",
    "                    perf_B[C[j]] = float(row[j])\n",
    "                BP[B[line_count - 1]] = perf_B\n",
    "            line_count += 1\n",
    "\n",
    "    with open(name_T, 'r', newline='') as T_csv:\n",
    "        reader = csv.reader(T_csv, delimiter=',')\n",
    "        line_count = 0\n",
    "        for row in reader:\n",
    "            if line_count == 0:\n",
    "                line_count += 1\n",
    "                continue\n",
    "            else:\n",
    "                perf_T = []\n",
    "                [perf_T.append(float(item)) for item in row]\n",
    "                T[C[line_count - 1]] = tuple(perf_T)\n",
    "            line_count += 1\n",
    "\n",
    "    AP = MonteCarlo(MY, variance, D)\n",
    "\n",
    "\n",
    "    return C, W, A, AP, B, BP, T\n",
    "\n",
    "\n",
    "def MonteCarlo(MY, variance, D):\n",
    "    \"\"\"\n",
    "    Build the distribution of each performance and pick a value in it\n",
    "\n",
    "    :param MY: Dictionary of mean values for each criterion and each scenario\n",
    "    :param D: Dictionary of each distribution for each criterion\n",
    "    :return: Dictionary AP with performance for each criterion and each scenario\n",
    "    \"\"\"\n",
    "    AP = {}\n",
    "    for s in MY:\n",
    "        perf_scenar = {}\n",
    "        for d in D:\n",
    "            M = float(MY[s][d])\n",
    "            if D[d] == 'N':\n",
    "                v = abs(M*variance)\n",
    "                perf = random.normal(M, v, 1)\n",
    "                perf_scenar[d] = perf[0]\n",
    "        AP[s] = perf_scenar\n",
    "    return AP\n",
    "\n"
   ]
  },
  {
   "cell_type": "markdown",
   "id": "27776081",
   "metadata": {},
   "source": [
    "Ancienne fonction concordance\n"
   ]
  },
  {
   "cell_type": "code",
   "execution_count": null,
   "id": "bee8c0b3",
   "metadata": {},
   "outputs": [],
   "source": [
    "\n",
    "\n",
    "def concordance(C, A, AP, b, BP, T):\n",
    "    \"\"\"\n",
    "    Calculates the concordance matrix for a given boundary reference action.\n",
    "\n",
    "    :param C: List containing the names of the criteria as strings.\n",
    "    :param A: List containing the names of the actions as strings.\n",
    "    :param AP: Actions performances dictionary.\n",
    "    :param b: Name of the boundary reference actions for which the concordance matrix is calculated.\n",
    "    :param BP: Performances dictionary of the boundary reference actions.\n",
    "    :param T: Dictionary of thresholds.\n",
    "\n",
    "    :return Concordance: Dictionary containing the matrix of concordance of actions with regard to the boundary\n",
    "        reference action chosen as input. The keys are '(ai,bk)' and '(bk,ai)'.\n",
    "    \"\"\"\n",
    "    Concordance = {}\n",
    "    conc_2D_1 = empty((0, len(C)))\n",
    "    conc_2D_2 = empty((0, len(C)))\n",
    "    for a in A:\n",
    "        conc_1D_1 = [min(1, max(0, (AP[a][c] - BP[b][c] + T[c][1]) / (T[c][1] - T[c][0]))) for c in C]\n",
    "        conc_1D_2 = [min(1, max(0, (BP[b][c] - AP[a][c] + T[c][1]) / (T[c][1] - T[c][0]))) for c in C]\n",
    "        conc_2D_1 = vstack((conc_2D_1, conc_1D_1))\n",
    "        conc_2D_2 = vstack((conc_2D_2, conc_1D_2))\n",
    "    Concordance['c(ai,{})'.format(b)] = conc_2D_1\n",
    "    Concordance['c({},ai)'.format(b)] = conc_2D_2\n",
    "    return Concordance\n",
    "\n"
   ]
  },
  {
   "cell_type": "markdown",
   "id": "c29606de",
   "metadata": {},
   "source": [
    "Nouvelle fonction concordance"
   ]
  },
  {
   "cell_type": "code",
   "execution_count": 14,
   "id": "2dd95e79",
   "metadata": {},
   "outputs": [
    {
     "name": "stdout",
     "output_type": "stream",
     "text": [
      "0    -3798369.0\n",
      "1    -3514268.0\n",
      "2           0.0\n",
      "3     -165402.0\n",
      "4      -15052.0\n",
      "5           0.0\n",
      "6           0.0\n",
      "7           0.0\n",
      "8           0.0\n",
      "9        -736.0\n",
      "10          0.0\n",
      "11          0.0\n",
      "12          0.0\n",
      "13          0.0\n",
      "14          0.0\n",
      "15      -5940.0\n",
      "Name: b0, dtype: float64\n"
     ]
    }
   ],
   "source": [
    "print (d[d.columns[31]])"
   ]
  },
  {
   "cell_type": "code",
   "execution_count": 21,
   "id": "816b311a",
   "metadata": {},
   "outputs": [],
   "source": [
    "\"\"\"d.apply(func, axis=0, raw=False, result_type=None, args=(), **kwargs)\"\"\"\n",
    "\n",
    "def conce(d):\n",
    "    new_df = pd.DataFrame()\n",
    "    for sc in d.columns[1:28]:\n",
    "        for th in d.columns[31:26]:\n",
    "            alpha = min(1,max(0,(d[d.columns[1]]-d[d.columns[31]]+d[d.columns[38]])/(d[d.columns[38]]-d[d.columns[37]])))\n",
    "            beta =  min(1,max(0,(d[d.columns[31]]-d[d.columns[1]]+d[d.columns[38]])/(d[d.columns[38]]-d[d.columns[37]])))\n",
    "            new_df[[\"lala\",'lolo']]=[alpha, beta]\n",
    "    return new_df\n",
    "  \n"
   ]
  },
  {
   "cell_type": "code",
   "execution_count": 22,
   "id": "063979f7",
   "metadata": {},
   "outputs": [
    {
     "data": {
      "text/html": [
       "<div>\n",
       "<style scoped>\n",
       "    .dataframe tbody tr th:only-of-type {\n",
       "        vertical-align: middle;\n",
       "    }\n",
       "\n",
       "    .dataframe tbody tr th {\n",
       "        vertical-align: top;\n",
       "    }\n",
       "\n",
       "    .dataframe thead th {\n",
       "        text-align: right;\n",
       "    }\n",
       "</style>\n",
       "<table border=\"1\" class=\"dataframe\">\n",
       "  <thead>\n",
       "    <tr style=\"text-align: right;\">\n",
       "      <th></th>\n",
       "    </tr>\n",
       "  </thead>\n",
       "  <tbody>\n",
       "  </tbody>\n",
       "</table>\n",
       "</div>"
      ],
      "text/plain": [
       "Empty DataFrame\n",
       "Columns: []\n",
       "Index: []"
      ]
     },
     "execution_count": 22,
     "metadata": {},
     "output_type": "execute_result"
    }
   ],
   "source": [
    "df2 = conce(d)\n",
    "df2.head()"
   ]
  },
  {
   "cell_type": "code",
   "execution_count": null,
   "id": "e4a0b590",
   "metadata": {},
   "outputs": [],
   "source": [
    "\n",
    "\n",
    "def discordance(C, A, AP, b, BP, T):\n",
    "    \"\"\"\n",
    "    Calculates the discordance matrix for a given boundary reference action.\n",
    "\n",
    "    :param C: List containing the names of the criteria as strings.\n",
    "    :param A: List containing the names of the actions as strings.\n",
    "    :param AP: Actions performances dictionary.\n",
    "    :param b: Name of the boundary reference actions for which the discordance matrix is calculated.\n",
    "    :param BP: Performances dictionary of the boundary reference actions.\n",
    "    :param T: Dictionary of thresholds.\n",
    "\n",
    "    :return discordance: Dictionary containing the matrix of discordance of actions with regard to the boundary\n",
    "        reference action chosen as input. The keys are '(ai,bk)' and '(bk,ai)'.\n",
    "    \"\"\"\n",
    "    Discordance = {}\n",
    "    disc_2D_1 = empty((0, len(C)))\n",
    "    disc_2D_2 = empty((0, len(C)))\n",
    "    for a in A:\n",
    "        disc_1D_1 = [min(1, max(0, (BP[b][c] - AP[a][c] - T[c][1]) / (T[c][2] - T[c][1]))) for c in C]\n",
    "        disc_1D_2 = [min(1, max(0, (AP[a][c] - BP[b][c] - T[c][1]) / (T[c][2] - T[c][1]))) for c in C]\n",
    "        disc_2D_1 = vstack((disc_2D_1, disc_1D_1))\n",
    "        disc_2D_2 = vstack((disc_2D_2, disc_1D_2))\n",
    "    Discordance['d(ai,{})'.format(b)] = disc_2D_1\n",
    "    Discordance['d({},ai)'.format(b)] = disc_2D_2\n",
    "    return Discordance\n",
    "\n",
    "\n",
    "def global_concordance(CONC, b, C, W, A):\n",
    "    \"\"\"\n",
    "    Calculates the global concordances vectors for a given boundary reference action using a given concordance matrix.\n",
    "\n",
    "    :param CONC: Matrix of concordance of actions with regard to a given boundary reference action.\n",
    "    :param b: Name of the boundary reference actions for which you want to calculate the global concordance indices.\n",
    "    :param C: List containing the names of the criteria as strings.\n",
    "    :param W: Dictionary containing the weightings of each criterion.\n",
    "    :param A: List containing the names of the actions as strings.\n",
    "\n",
    "    :return Global_concordance: Dictionary containing two vectors corresponding to the global concordance of the\n",
    "        actions Si with the boundary actions defined in input bk, and of bk with the actions Si.\n",
    "        The keys are '(ai,bk)' and '(bk,ai)'.\n",
    "    \"\"\"\n",
    "    Global_concordance = {}\n",
    "    glob_conc_1D_1 = []\n",
    "    glob_conc_1D_2 = []\n",
    "    for i in range(len(A)):\n",
    "        gc1 = [(W[C[j]] * CONC['c(ai,{})'.format(b)][i][j]) / sum(W.values()) for j in range(len(C))]\n",
    "        gc2 = [(W[C[j]] * CONC['c({},ai)'.format(b)][i][j]) / sum(W.values()) for j in range(len(C))]\n",
    "        glob_conc_1D_1.append(sum(gc1))\n",
    "        glob_conc_1D_2.append(sum(gc2))\n",
    "    Global_concordance['C(ai,{})'.format(b)] = glob_conc_1D_1\n",
    "    Global_concordance['C({},ai)'.format(b)] = glob_conc_1D_2\n",
    "    return Global_concordance\n",
    "\n",
    "\n",
    "def credibility(GLOB_CONC, b, DISC, C, A):\n",
    "    \"\"\"\n",
    "    Calculates the credibility vectors for a given boundary reference action using the global concordance vector and\n",
    "        the discordance matrix for the same boundary reference action.\n",
    "\n",
    "    :param GLOB_CONC: Dictionary containing the global concordances vectors for a given boundary reference action.\n",
    "    :param b: Name of the boundary reference actions for which you want to calculate the credibility indices.\n",
    "    :param DISC: Matrix of discordance of actions with regard to the same given boundary reference action.\n",
    "    :param C: List containing the names of the criteria as strings.\n",
    "    :param A: List containing the names of the actions as strings.\n",
    "\n",
    "    :return Credibility: Dictionary containing two vectors corresponding to the credibility of the over ranking of the\n",
    "        actions Si by the boundary reference action defined as input bk, and to the over ranking of de bk by the\n",
    "        actions Si. The keys are '(ai,bk)' and '(bk,ai)'.\n",
    "    \"\"\"\n",
    "    Credibility = {}\n",
    "    cred_1 = []\n",
    "    cred_2 = []\n",
    "    for i in range(len(A)):\n",
    "        cr1 = 1\n",
    "        cr2 = 1\n",
    "        for j in range(len(C)):\n",
    "            if DISC['d(ai,{})'.format(b)][i][j] > GLOB_CONC['C(ai,{})'.format(b)][i]:\n",
    "                cr1 = cr1 * (1 - DISC['d(ai,{})'.format(b)][i][j]) / (1 - GLOB_CONC['C(ai,{})'.format(b)][i])\n",
    "            else:\n",
    "                cr1 = cr1 * 1\n",
    "            if DISC['d({},ai)'.format(b)][i][j] > GLOB_CONC['C({},ai)'.format(b)][i]:\n",
    "                cr2 = cr2 * (1 - DISC['d({},ai)'.format(b)][i][j]) / (1 - GLOB_CONC['C({},ai)'.format(b)][i])\n",
    "            else:\n",
    "                cr2 = cr2 * 1\n",
    "        cred_1.append(cr1 * GLOB_CONC['C(ai,{})'.format(b)][i])\n",
    "        cred_2.append(cr2 * GLOB_CONC['C({},ai)'.format(b)][i])\n",
    "    Credibility['σ(ai,{})'.format(b)] = cred_1\n",
    "    Credibility['σ({},ai)'.format(b)] = cred_2\n",
    "    return Credibility\n",
    "\n",
    "\n",
    "def over_ranking_relations(CRED, b, λ):\n",
    "    \"\"\"\n",
    "    Built the over ranking relations matrix using the credibility vectors and the cutting threshold. The result is a\n",
    "        matrix containing the following four outranking relations:\n",
    "            - preference of ai over bk: '>'\n",
    "            - preference of bk over ai: '<'\n",
    "            - indifference: 'I'\n",
    "            - incomparability: 'R'.\n",
    "\n",
    "    :param CRED: List of credibility values for the boundary reference actions considered.\n",
    "    :param b: Name of the boundary reference actions for which you want to calculate the over ranking relations.\n",
    "    :param λ: Cutting threshold value.\n",
    "\n",
    "    :return over_ranking: Dictionary containing the over ranking relation and where the keys are name of the boundaries\n",
    "        reference actions, représenting the limits and boundaries of the different categories.\n",
    "    \"\"\"\n",
    "    over_ranking = []\n",
    "\n",
    "    for i in range(len(CRED['σ(ai,{})'.format(b)])):\n",
    "        if CRED['σ(ai,{})'.format(b)][i] >= λ:\n",
    "            if CRED['σ({},ai)'.format(b)][i] >= λ:\n",
    "                over_ranking.append('I')\n",
    "            else:\n",
    "                over_ranking.append('>')\n",
    "        else:\n",
    "            if CRED['σ({},ai)'.format(b)][i] >= λ:\n",
    "                over_ranking.append('<')\n",
    "            else:\n",
    "                over_ranking.append('R')\n",
    "\n",
    "    return over_ranking\n",
    "\n",
    "\n",
    "def pessimistic_sorting(OVER_RANK, CAT, A, B):\n",
    "    \"\"\"\n",
    "    Rank the actions in the three different categories according to a pessimistic procedure.\n",
    "\n",
    "    :param OVER_RANK: Dictionary containing the over sorting relations.\n",
    "    :param CAT: List of the names of the different categories in which the actions will be classified.\n",
    "    :param A: List containing the names of the actions as strings.\n",
    "    :param B: Name of the boundary reference actions for which you want to calculate the concordance matrix.\n",
    "\n",
    "    :return: sorting: Dictionary containing the different categories and the actions they contain. The keys are the name\n",
    "        of the different categories. The values are lists containing the actions.\n",
    "    :return: category: Dictionary containing the rank of each actions according to a pessimistic procedure.\n",
    "        The keys are the name of the actions and the values are the median ranks.\n",
    "    \"\"\"\n",
    "    sorting = {}\n",
    "    category = {}\n",
    "    for cat in CAT:\n",
    "        sorting[cat] = []\n",
    "    for i in range(len(A)):\n",
    "        for j in reversed(range(len(CAT))):\n",
    "            if OVER_RANK[B[j]][i] == '>' or OVER_RANK[B[j + 1]][i] == 'I':\n",
    "                sorting[CAT[j]].append(A[i])\n",
    "                category[A[i]] = j + 1\n",
    "                break\n",
    "    return sorting, category\n",
    "\n",
    "\n",
    "def optimistic_sorting(OVER_RANK, CAT, A, B):\n",
    "    \"\"\"\n",
    "    Rank the actions in the three different categories according to a optimistic procedure.\n",
    "\n",
    "    :param OVER_RANK: Dictionary containing the over sorting relations for each boundary reference actions.\n",
    "    :param CAT: List of the names of the different categories in which the actions will be classified.\n",
    "    :param A: List containing the names of the actions as strings.\n",
    "    :param B: Name of the boundary reference actions for which you want to calculate the concordance matrix.\n",
    "\n",
    "    :return: sorting: Dictionary containing the different categories and the actions they contain. The keys are the\n",
    "        categories 'Bad', 'Moderate', and 'Good'. The values are lists containing the actions.\n",
    "    :return: category: Dictionary containing the rank of each actions according to a optimistic procedure.\n",
    "        The keys are the actions and the values are the median ranks.\n",
    "    \"\"\"\n",
    "    sorting = {}\n",
    "    category = {}\n",
    "    for cat in CAT:\n",
    "        sorting[cat] = []\n",
    "    for i in range(len(A)):\n",
    "        for j in range(len(CAT)):\n",
    "            if OVER_RANK[B[j + 1]][i] == '<' or OVER_RANK[B[j]][i] == 'R':\n",
    "                sorting[CAT[j]].append(A[i])\n",
    "                category[A[i]] = j + 1\n",
    "                break\n",
    "    return sorting, category\n",
    "\n",
    "\n",
    "def median_rank(PESSI_SORT, OPTI_SORT, A):\n",
    "    \"\"\"\n",
    "    Calculates the median rank of each action.\n",
    "\n",
    "    :param PESSI_SORT: Dictionary containing the actions classified according to the pessimistic procedure.\n",
    "    :param OPTI_SORT: Dictionary containing the actions classified according to the optimistic procedure.\n",
    "    :param A: List containing the names of the actions as strings.\n",
    "\n",
    "    :return med_rank: Dictionary containing the median rank of each action. The keys are the names of the actions\n",
    "        and the values are the median ranks.\n",
    "    \"\"\"\n",
    "    med_rank = {}\n",
    "    for a in A:\n",
    "        med_rank[a] = (OPTI_SORT[1][a] + PESSI_SORT[1][a]) / 2\n",
    "    return med_rank\n",
    "\n",
    "\n",
    "def display_results(PESSI_SORT, OPTI_SORT, MED_RANK, A):\n",
    "    \"\"\"\n",
    "    Display of the median ranks and of the categories in which each action is classified.\n",
    "\n",
    "    :param PESSI_SORT: Dictionary containing the actions classified according to the pessimistic procedure.\n",
    "    :param OPTI_SORT: Dictionary containing the actions classified according to the optimistic procedure.\n",
    "    :param MED_RANK: Dictionary containing the median rank of each action.\n",
    "    :param A: List containing the names of the actions as strings.\n",
    "    \"\"\"\n",
    "    for a in A:\n",
    "        MED_RANK[a] = (OPTI_SORT[1][a] + PESSI_SORT[1][a]) / 2\n",
    "        print('Action ' + a + ' is classified in the category C' + str(OPTI_SORT[1][a]) +\n",
    "              str(PESSI_SORT[1][a]) + ' with a median rank of ' + str(MED_RANK[a]))\n",
    "\n",
    "\n",
    "def separability_test(C, W, B, BP, T, display='NO'):\n",
    "    \"\"\"\n",
    "    Calculates the minimum required credibility threshold.\n",
    "\n",
    "    :param C: List containing the names of the criteria as strings.\n",
    "    :param W: Dictionary containing the weightings of each criterion.\n",
    "    :param B: Name of the boundary reference actions for which you want to calculate the concordance matrix.\n",
    "    :param BP: Performances dictionary of the boundary reference actions.\n",
    "    :param T: Dictionary of thresholds.\n",
    "    :param display: Parameter allowing to choose if the display of the comments is desired or not.\n",
    "\n",
    "    :return Sigma_bk: Dictionary containing the credibility index values for the pairs of boundary reference actions\n",
    "        like (bk,bk+1). The keys are 'S(b0,b1)', 'S(b1,b2)', 'S(b2,b3)', etc.\n",
    "    :return Separability: Variable stating whether the separability is \"Weak\", \"Strict\" or \"Hyper-strict\".\n",
    "    \"\"\"\n",
    "    Sigma_bk = {}\n",
    "    Separability = ''\n",
    "    for b in range(1, len(B), 1):\n",
    "        conc = concordance(C, B, BP, B[b], BP, T)\n",
    "        disc = discordance(C, B, BP, B[b], BP, T)\n",
    "        glob_conc = global_concordance(conc, B[b], C, W, B)\n",
    "        cred = credibility(glob_conc, B[b], disc, C, B)\n",
    "        Sigma_bk['σ({},{})'.format(B[b - 1], B[b])] = cred['σ(ai,{})'.format(B[b])][b - 1]\n",
    "    if max(Sigma_bk.values()) == 0:\n",
    "        Separability = 'Hyper-strict'\n",
    "        if display == 'YES':\n",
    "            print(' ')\n",
    "            print('The degree of separability is', Separability)\n",
    "            print('Minimum required credibility threshold : max(σ(bk, bk+1)) =',\n",
    "                  (math.ceil(max(Sigma_bk.values()) * 100) / 100))\n",
    "        elif display != 'YES' and display != 'NO':\n",
    "            raise NameError('The variable \"display\" must be equal to \"YES\" or \"NO\"')\n",
    "    elif 0 < max(Sigma_bk.values()) <= 1 / 2:\n",
    "        Separability = 'Strict'\n",
    "        if display == 'YES':\n",
    "            print(' ')\n",
    "            print('The degree of separability is', Separability)\n",
    "            print('Minimum required credibility threshold : max(σ(bk, bk+1)) =',\n",
    "                  (math.ceil(max(Sigma_bk.values()) * 100) / 100))\n",
    "        elif display != 'YES' and display != 'NO':\n",
    "            raise NameError('The variable \"display\" must be equal to \"YES\" or \"NO\"')\n",
    "    elif 1 / 2 < max(Sigma_bk.values()) <= 1:\n",
    "        Separability = 'Weak'\n",
    "        if display == 'YES':\n",
    "            print(' ')\n",
    "            print('The degree of separability is', Separability)\n",
    "            print('Minimum required credibility threshold : max(σ(bk, bk+1)) =',\n",
    "                  (math.ceil(max(Sigma_bk.values()) * 100) / 100))\n",
    "        raise NameError('Redefine the input parameters to respect at least a strict separability.')\n",
    "\n",
    "    return Sigma_bk, Separability\n",
    "\n",
    "\n",
    "def compter(Sorting, memoire):\n",
    "    \"\"\"\n",
    "    fonction qui remplie un tableau memoire\n",
    "\n",
    "    :param Sorting: dictionnary with  keys = scenario and for each keys their ranking between 1 and 5\n",
    "    :param memoire: dictionnary with keys = scenario and for each keys memory list with where they were ranked\n",
    "    :return: le fichier mémoire\n",
    "\n",
    "    \"\"\"\n",
    "    for s, cat in Sorting.items():  # Pour le scénario s\n",
    "        CAT = cat - 1  # colonne dans laquelle le scenario est (0,1,2,3 ou 4)\n",
    "        mem = memoire[s][CAT] + 1\n",
    "        memoire[s][CAT] = mem  # attribuer +1 à la valeur de la liste correspondant au classement de la cat\n",
    "    return memoire\n",
    "\n",
    "\n",
    "def Write_csv_Results(Sorting1, Sorting2):\n",
    "    with open('06_Results.csv', 'w', encoding='UTF8', newline='') as R_csv:\n",
    "        writer = csv.writer(R_csv)\n",
    "        writer.writerow('Optimistic sorting')\n",
    "        writer.writerow('C1 C2 C3 C4 C5')\n",
    "        for scenar in Sorting1.keys():\n",
    "            writer.writerow(format(scenar))\n",
    "            writer.writerow(Sorting1[scenar])\n",
    "        writer.writerow(' ')\n",
    "        writer.writerow('Pessimistic sorting')\n",
    "        writer.writerow('C1,C2,C3,C4,C5')\n",
    "        for scenar in Sorting2.keys():\n",
    "            writer.writerow(format(scenar))\n",
    "            writer.writerow(Sorting2[scenar])\n",
    "\n",
    "\n",
    "def ELECTRE_Tri_B(C, W, A, AP, B, BP, T, CAT, λ, display='NO'):\n",
    "    \"\"\"\n",
    "    Upper function to execute the ELECTRE method by calling each of the elementary functions in the order\n",
    "        they should be called. The input data are described below.\n",
    "\n",
    "    :param C: List containing the names of the criteria as strings.\n",
    "    :param W: Dictionary containing the weightings of each criterion.\n",
    "    :param A: List containing the names of the actions as strings.\n",
    "    :param AP: Actions performances dictionary.\n",
    "    :param B: List containing the names of the boundary reference actions.\n",
    "    :param BP: Dictionary of the Boundaries reference actions performances.\n",
    "    :param T: Dictionary of thresholds.\n",
    "    :param CAT: List of the names of the different categories in which the actions will be classified.\n",
    "    :param λ: Cutting threshold value.\n",
    "    :param display: Parameter allowing to choose if the display of the results and comments is desired or not.\n",
    "\n",
    "    :return: Conc, Disc, Glob_conc, Cred, Over_rank, Pessi_sort, Opti_sort, Med_rank, Sigma_bk, Separability\n",
    "    \"\"\"\n",
    "    # ======================   Test of the minimum requirements to run the ELECTRE Tri method   ====================== #\n",
    "    # The weights of the criteria must be normalized and their sum must be equal to 1 or 100\n",
    "    if sum(W.values()) <= 1.000001 and not 0.999999 <= sum(W.values()) <= 1.000001:\n",
    "        raise NameError('Condition of normalized weights is not respected')\n",
    "    elif sum(W.values()) > 1.000001 and not 99.999999 <= sum(W.values()) <= 100.000001:\n",
    "        raise NameError('Condition of normalized weights is not respected')\n",
    "    # The values of the thresholds 'q', 'p' and 'v' must be increasing 'q' < 'p' < 'v'\n",
    "    for gj in T.keys():\n",
    "        if not T[gj][0] < T[gj][1] < T[gj][2]:\n",
    "            raise NameError('Condition of increasing order of thresholds is not respected')\n",
    "    # Separability test and verification of the minimum required credibility threshold\n",
    "    Sigma_bk, Separability = separability_test(C, W, B, BP, T, display='NO')\n",
    "    if λ < max(Sigma_bk.values()):\n",
    "        raise NameError('The chosen credibility threshold is lower than the minimum required credibility threshold '\n",
    "                        'λ_min = {}'.format(max(Sigma_bk.values())))\n",
    "\n",
    "    # ==========================   Calculation of the indicators of the ELECTRE Tri method   ========================= #\n",
    "    # Calculation of the concordance matrices for all the boundary scenarios\n",
    "    Conc = {}\n",
    "    for b in B:\n",
    "        name = '{}'.format(b)\n",
    "        Conc[name] = concordance(C, A, AP, b, BP, T)\n",
    "    # Calculation of the discordance matrices for all the boundary scenarios\n",
    "    Disc = {}\n",
    "    for b in B:\n",
    "        name = '{}'.format(b)\n",
    "        Disc[name] = discordance(C, A, AP, b, BP, T)\n",
    "    # print(Disc)\n",
    "    # print('')\n",
    "    # Calculation of the global concordances vectors for all the boundary scenarios\n",
    "    Glob_conc = {}\n",
    "    for b in B:\n",
    "        name = '{}'.format(b)\n",
    "        Glob_conc[name] = global_concordance(Conc['{}'.format(b)], b, C, W, A)\n",
    "\n",
    "    # Calculation of the credibility vectors for all the boundary scenarios\n",
    "    Cred = {}\n",
    "    for b in B:\n",
    "        name = '{}'.format(b)\n",
    "        Cred[name] = credibility(Glob_conc['{}'.format(b)], b, Disc['{}'.format(b)], C, A)\n",
    "    # print(Cred)\n",
    "    # Building the matrix of outranking relations\n",
    "    Over_rank = {}\n",
    "    for b in B:\n",
    "        name = '{}'.format(b)\n",
    "        Over_rank[name] = over_ranking_relations(Cred['{}'.format(b)], b, λ)\n",
    "\n",
    "    # ============================   Ranking of actions and calculation of median ranks   ============================ #\n",
    "    # Ranking of actions in the three categories according to the pessimistic procedure and display of the result\n",
    "    Pessi_sort = pessimistic_sorting(Over_rank, CAT, A, B)\n",
    "    # Ranking of actions in the three categories according to the optimistic procedure and display of the result\n",
    "    Opti_sort = optimistic_sorting(Over_rank, CAT, A, B)\n",
    "    # Calculating the median rank of each action\n",
    "    Med_rank = median_rank(Pessi_sort, Opti_sort, A)\n",
    "\n",
    "    # ==========================================   Display of the results   ========================================== #\n",
    "    # Display of the categories in which each action is classified\n",
    "    if display == 'YES':\n",
    "        print(' ')\n",
    "        print(\"Results of the pessimistic sorting : \")\n",
    "        for cat in Pessi_sort[0].keys():\n",
    "            print('{} :'.format(cat), Pessi_sort[0][cat])\n",
    "        print('Pessimistic category :', Pessi_sort[1])\n",
    "        print(' ')\n",
    "        print('Results of the optimistic sorting : ')\n",
    "        for cat in Opti_sort[0].keys():\n",
    "            print('{} :'.format(cat), Opti_sort[0][cat])\n",
    "        print('Optimistic category : ', Opti_sort[1])\n",
    "    elif display != 'YES' and display != 'NO':\n",
    "        raise NameError('The choice of displaying the results must be indicated by \"YES\" or \"NO\"')\n",
    "    # Display of the median rank of each action\n",
    "    if display == 'YES':\n",
    "        print(' ')\n",
    "        display_results(Pessi_sort, Opti_sort, Med_rank, A)\n",
    "    elif display != 'YES' and display != 'NO':\n",
    "        raise NameError('The choice of displaying the results must be indicated by \"YES\" or \"NO\"')\n",
    "\n",
    "    return Conc, Disc, Glob_conc, Cred, Over_rank, Pessi_sort, Opti_sort, Med_rank, Sigma_bk, Separability\n",
    "\n",
    "\n",
    "\n"
   ]
  },
  {
   "cell_type": "code",
   "execution_count": 10,
   "id": "8254af87-e9e5-4fe5-ace5-ed81528fa4da",
   "metadata": {},
   "outputs": [
    {
     "name": "stdout",
     "output_type": "stream",
     "text": [
      "0\n",
      "1\n",
      "2\n",
      "3\n",
      "4\n",
      "5\n",
      "6\n",
      "7\n",
      "8\n",
      "9\n"
     ]
    },
    {
     "data": {
      "image/png": "[encoded data removed]",
      "text/plain": [
       "<Figure size 432x288 with 1 Axes>"
      ]
     },
     "metadata": {
      "needs_background": "light"
     },
     "output_type": "display_data"
    },
    {
     "data": {
      "image/png": "[encoded data removed]",
      "text/plain": [
       "<Figure size 432x288 with 1 Axes>"
      ]
     },
     "metadata": {
      "needs_background": "light"
     },
     "output_type": "display_data"
    },
    {
     "data": {
      "image/png": "[encoded data removed]",
      "text/plain": [
       "<Figure size 432x288 with 1 Axes>"
      ]
     },
     "metadata": {
      "needs_background": "light"
     },
     "output_type": "display_data"
    },
    {
     "data": {
      "image/png": "[encoded data removed]",
      "text/plain": [
       "<Figure size 432x288 with 1 Axes>"
      ]
     },
     "metadata": {
      "needs_background": "light"
     },
     "output_type": "display_data"
    },
    {
     "data": {
      "image/png": "[encoded data removed]",
      "text/plain": [
       "<Figure size 432x288 with 1 Axes>"
      ]
     },
     "metadata": {
      "needs_background": "light"
     },
     "output_type": "display_data"
    },
    {
     "data": {
      "image/png": "[encoded data removed]",
      "text/plain": [
       "<Figure size 432x288 with 1 Axes>"
      ]
     },
     "metadata": {
      "needs_background": "light"
     },
     "output_type": "display_data"
    },
    {
     "data": {
      "image/png": "[encoded data removed]",
      "text/plain": [
       "<Figure size 432x288 with 1 Axes>"
      ]
     },
     "metadata": {
      "needs_background": "light"
     },
     "output_type": "display_data"
    },
    {
     "data": {
      "image/png": "[encoded data removed]",
      "text/plain": [
       "<Figure size 432x288 with 1 Axes>"
      ]
     },
     "metadata": {
      "needs_background": "light"
     },
     "output_type": "display_data"
    },
    {
     "data": {
      "image/png": "[encoded data removed]",
      "text/plain": [
       "<Figure size 432x288 with 1 Axes>"
      ]
     },
     "metadata": {
      "needs_background": "light"
     },
     "output_type": "display_data"
    },
    {
     "data": {
      "image/png": "[encoded data removed]",
      "text/plain": [
       "<Figure size 432x288 with 1 Axes>"
      ]
     },
     "metadata": {
      "needs_background": "light"
     },
     "output_type": "display_data"
    },
    {
     "data": {
      "image/png": "[encoded data removed]",
      "text/plain": [
       "<Figure size 432x288 with 1 Axes>"
      ]
     },
     "metadata": {
      "needs_background": "light"
     },
     "output_type": "display_data"
    },
    {
     "data": {
      "image/png": "[encoded data removed]",
      "text/plain": [
       "<Figure size 432x288 with 1 Axes>"
      ]
     },
     "metadata": {
      "needs_background": "light"
     },
     "output_type": "display_data"
    },
    {
     "data": {
      "image/png": "[encoded data removed]",
      "text/plain": [
       "<Figure size 432x288 with 1 Axes>"
      ]
     },
     "metadata": {
      "needs_background": "light"
     },
     "output_type": "display_data"
    },
    {
     "data": {
      "image/png": "[encoded data removed]",
      "text/plain": [
       "<Figure size 432x288 with 1 Axes>"
      ]
     },
     "metadata": {
      "needs_background": "light"
     },
     "output_type": "display_data"
    },
    {
     "data": {
      "image/png": "[encoded data removed]",
      "text/plain": [
       "<Figure size 432x288 with 1 Axes>"
      ]
     },
     "metadata": {
      "needs_background": "light"
     },
     "output_type": "display_data"
    },
    {
     "data": {
      "image/png": "[encoded data removed]",
      "text/plain": [
       "<Figure size 432x288 with 1 Axes>"
      ]
     },
     "metadata": {
      "needs_background": "light"
     },
     "output_type": "display_data"
    },
    {
     "data": {
      "image/png": "[encoded data removed]",
      "text/plain": [
       "<Figure size 432x288 with 1 Axes>"
      ]
     },
     "metadata": {
      "needs_background": "light"
     },
     "output_type": "display_data"
    },
    {
     "data": {
      "image/png": "[encoded data removed]",
      "text/plain": [
       "<Figure size 432x288 with 1 Axes>"
      ]
     },
     "metadata": {
      "needs_background": "light"
     },
     "output_type": "display_data"
    },
    {
     "data": {
      "image/png": "[encoded data removed]",
      "text/plain": [
       "<Figure size 432x288 with 1 Axes>"
      ]
     },
     "metadata": {
      "needs_background": "light"
     },
     "output_type": "display_data"
    },
    {
     "data": {
      "image/png": "[encoded data removed]",
      "text/plain": [
       "<Figure size 432x288 with 1 Axes>"
      ]
     },
     "metadata": {
      "needs_background": "light"
     },
     "output_type": "display_data"
    },
    {
     "data": {
      "image/png": "[encoded data removed]",
      "text/plain": [
       "<Figure size 432x288 with 1 Axes>"
      ]
     },
     "metadata": {
      "needs_background": "light"
     },
     "output_type": "display_data"
    },
    {
     "data": {
      "image/png": "[encoded data removed]",
      "text/plain": [
       "<Figure size 432x288 with 1 Axes>"
      ]
     },
     "metadata": {
      "needs_background": "light"
     },
     "output_type": "display_data"
    },
    {
     "data": {
      "image/png": "[encoded data removed]",
      "text/plain": [
       "<Figure size 432x288 with 1 Axes>"
      ]
     },
     "metadata": {
      "needs_background": "light"
     },
     "output_type": "display_data"
    },
    {
     "data": {
      "image/png": "[encoded data removed]",
      "text/plain": [
       "<Figure size 432x288 with 1 Axes>"
      ]
     },
     "metadata": {
      "needs_background": "light"
     },
     "output_type": "display_data"
    },
    {
     "data": {
      "image/png": "[encoded data removed]",
      "text/plain": [
       "<Figure size 432x288 with 1 Axes>"
      ]
     },
     "metadata": {
      "needs_background": "light"
     },
     "output_type": "display_data"
    },
    {
     "data": {
      "image/png": "[encoded data removed]",
      "text/plain": [
       "<Figure size 432x288 with 1 Axes>"
      ]
     },
     "metadata": {
      "needs_background": "light"
     },
     "output_type": "display_data"
    },
    {
     "data": {
      "image/png": "[encoded data removed]",
      "text/plain": [
       "<Figure size 432x288 with 1 Axes>"
      ]
     },
     "metadata": {
      "needs_background": "light"
     },
     "output_type": "display_data"
    },
    {
     "data": {
      "image/png": "[encoded data removed]",
      "text/plain": [
       "<Figure size 432x288 with 1 Axes>"
      ]
     },
     "metadata": {
      "needs_background": "light"
     },
     "output_type": "display_data"
    },
    {
     "name": "stdout",
     "output_type": "stream",
     "text": [
      "variance: 0.1\n",
      "λ: 0.75\n",
      "{'S1.1': [0, 10, 0, 0, 0], 'S1.2': [0, 0, 10, 0, 0], 'S1.3': [0, 0, 6, 4, 0], 'S1.4': [0, 6, 4, 0, 0], 'S2.1': [0, 0, 10, 0, 0], 'S2.2': [0, 0, 0, 10, 0], 'S2.3': [0, 0, 0, 9, 1], 'S2.4': [0, 0, 0, 9, 1], 'S3.1': [0, 2, 8, 0, 0], 'S3.2': [0, 0, 4, 6, 0], 'S3.3': [0, 2, 4, 4, 0], 'S3.4': [0, 0, 2, 8, 0], 'S4.1': [0, 0, 10, 0, 0], 'S4.2': [0, 0, 10, 0, 0], 'S4.3': [0, 0, 10, 0, 0], 'S4.4': [0, 0, 10, 0, 0], 'S5.1': [0, 10, 0, 0, 0], 'S5.2': [0, 10, 0, 0, 0], 'S5.3': [0, 10, 0, 0, 0], 'S5.4': [0, 10, 0, 0, 0], 'S6.1': [0, 0, 4, 6, 0], 'S6.2': [0, 0, 3, 7, 0], 'S6.3': [0, 0, 10, 0, 0], 'S6.4': [0, 0, 0, 9, 1], 'S7.1': [0, 10, 0, 0, 0], 'S7.2': [0, 10, 0, 0, 0], 'S7.3': [0, 10, 0, 0, 0], 'S7.4': [0, 10, 0, 0, 0]}\n",
      "{'S1.1': [10, 0, 0, 0, 0], 'S1.2': [0, 10, 0, 0, 0], 'S1.3': [0, 6, 4, 0, 0], 'S1.4': [6, 4, 0, 0, 0], 'S2.1': [0, 10, 0, 0, 0], 'S2.2': [0, 0, 4, 6, 0], 'S2.3': [0, 0, 6, 4, 0], 'S2.4': [0, 0, 5, 5, 0], 'S3.1': [2, 8, 0, 0, 0], 'S3.2': [0, 0, 10, 0, 0], 'S3.3': [2, 2, 6, 0, 0], 'S3.4': [0, 1, 9, 0, 0], 'S4.1': [0, 10, 0, 0, 0], 'S4.2': [0, 10, 0, 0, 0], 'S4.3': [0, 10, 0, 0, 0], 'S4.4': [0, 10, 0, 0, 0], 'S5.1': [10, 0, 0, 0, 0], 'S5.2': [10, 0, 0, 0, 0], 'S5.3': [10, 0, 0, 0, 0], 'S5.4': [10, 0, 0, 0, 0], 'S6.1': [0, 4, 6, 0, 0], 'S6.2': [0, 3, 7, 0, 0], 'S6.3': [0, 10, 0, 0, 0], 'S6.4': [0, 0, 9, 1, 0], 'S7.1': [10, 0, 0, 0, 0], 'S7.2': [10, 0, 0, 0, 0], 'S7.3': [10, 0, 0, 0, 0], 'S7.4': [10, 0, 0, 0, 0]}\n"
     ]
    }
   ],
   "source": [
    "\"\"\"\n",
    "Created on Wed Mar 16 2022 at 15:37\n",
    "Modified on Thur Dec 01 2022 at 10:00\n",
    "\n",
    "@author: sdaniel\n",
    "@author: rviala\n",
    "@author: ngauthier\n",
    "\"\"\"\n",
    "import math\n",
    "\n",
    "import matplotlib.pyplot as plt\n",
    "\n",
    "\n",
    "########################################################################################################################\n",
    "# ===========================================   Input data import   ================================================== #\n",
    "########################################################################################################################\n",
    "\n",
    "CAT = ['C1', 'C2', 'C3', 'C4', 'C5']\n",
    "S = ['S1.1', 'S1.2', 'S1.3', 'S1.4', 'S2.1', 'S2.2', 'S2.3', 'S2.4', 'S3.1', 'S3.2', 'S3.3', 'S3.4', 'S4.1', 'S4.2',\n",
    "     'S4.3',\n",
    "     'S4.4', 'S5.1', 'S5.2', 'S5.3', 'S5.4', 'S6.1', 'S6.2', 'S6.3', 'S6.4', 'S7.1', 'S7.2', 'S7.3', 'S7.4']\n",
    "variance = 0.1 #to be selected\n",
    "repetition = 10 #to be selected\n",
    "λ = 0.75 #to be selected\n",
    "\n",
    "########################################################################################################################\n",
    "# ================================   Automatic execution of the ELECTRE Tri-B   ====================================== #\n",
    "########################################################################################################################\n",
    "\n",
    "\n",
    "memoire_opti = {}\n",
    "memoire_pessi = {}\n",
    "for s in S:\n",
    "    memoire_opti[s] = [0, 0, 0, 0, 0]\n",
    "    memoire_pessi[s] = [0, 0, 0, 0, 0]\n",
    "\n",
    "for s in range(repetition):\n",
    "    C, W, A, AP, B, BP, T = input_data('01_Weights.csv',\n",
    "                                                     '02_Actions_performancesMY.csv',\n",
    "                                                     '03_Distribution_Types.csv',\n",
    "                                                     '04_Boundaries_actions_performances.csv',\n",
    "                                                     '05_Thresholds.csv', variance)\n",
    "    Sigma_bk_init, Separability_init = separability_test(C, W, B, BP, T, display='NO')\n",
    "    λ_min = math.ceil(max(Sigma_bk_init.values()) * 1000) / 1000\n",
    "    Test_init = ELECTRE_Tri_B(C, W, A, AP, B, BP, T, CAT, λ, display='NO')\n",
    "    Conc, Disc, Glob_conc, Cred, Over_rank, Pessi_sort, Opti_sort, Med_rank, Sigma_bk, Separability = \\\n",
    "        ELECTRE_Tri_B(C, W, A, AP, B, BP, T, CAT, λ, display='NO')\n",
    "    memoire_opti = compter(Opti_sort[1], memoire_opti)\n",
    "    memoire_pessi = compter(Pessi_sort[1], memoire_pessi)\n",
    "    print(s)\n",
    "\n",
    "Write_csv_Results(memoire_opti, memoire_pessi)\n",
    "\n",
    "for r in S:\n",
    "    x = CAT\n",
    "    y = memoire_opti[r]\n",
    "    plt.title(r + ' (var=' + str(variance) + ') ')\n",
    "    plt.xlabel('categories')\n",
    "    plt.ylabel('values')\n",
    "    plt.bar(x, y, color=(0.5, 0.1, 0.5, 0.6))\n",
    "    plt.show()\n",
    "\n",
    "print('variance: ' + str(variance))\n",
    "print('λ: '+ str(λ))\n",
    "print(memoire_opti)\n",
    "print(memoire_pessi)\n",
    "\n",
    "\n",
    "   \n",
    "\n",
    "\n",
    "\n",
    "   "
   ]
  },
  {
   "cell_type": "code",
   "execution_count": null,
   "id": "5aeed118-3161-419f-b158-4e989b915f38",
   "metadata": {},
   "outputs": [],
   "source": []
  }
 ],
 "metadata": {
  "kernelspec": {
   "display_name": "Python 3.9.12 ('base')",
   "language": "python",
   "name": "python3"
  },
  "language_info": {
   "codemirror_mode": {
    "name": "ipython",
    "version": 3
   },
   "file_extension": ".py",
   "mimetype": "text/x-python",
   "name": "python",
   "nbconvert_exporter": "python",
   "pygments_lexer": "ipython3",
   "version": "3.9.12"
  },
  "vscode": {
   "interpreter": {
    "hash": "9b6de171f94b0913ceedb8ce2edb5da18dca4a22bcb75081cdf1074cbb37c4f8"
   }
  }
 },
 "nbformat": 4,
 "nbformat_minor": 5
}
